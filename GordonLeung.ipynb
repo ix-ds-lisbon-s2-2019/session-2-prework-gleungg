{
 "cells": [
  {
   "cell_type": "markdown",
   "metadata": {},
   "source": [
    "# Prework Assignment"
   ]
  },
  {
   "cell_type": "markdown",
   "metadata": {},
   "source": [
    "### General Background Questions"
   ]
  },
  {
   "cell_type": "markdown",
   "metadata": {},
   "source": [
    "1. Why is version control important in science?"
   ]
  },
  {
   "cell_type": "code",
   "execution_count": 1,
   "metadata": {},
   "outputs": [
    {
     "name": "stdout",
     "output_type": "stream",
     "text": [
      "Version control is a universally important and convenient tool for all. However, it is especially important in science as it holds significant contribution to the progression of research. Version control offers many conveniences such as allowing changes from multiple users\n"
     ]
    }
   ],
   "source": [
    "print(\"Although universally important, version control is especially important in science as it allows multiple users to contribute to the same documents at once. It also holds key features that allow for smooth operations, such as commit logs.\")"
   ]
  },
  {
   "cell_type": "markdown",
   "metadata": {},
   "source": [
    "2. What kind of research artifacts can we track with Git?"
   ]
  },
  {
   "cell_type": "code",
   "execution_count": 1,
   "metadata": {},
   "outputs": [],
   "source": [
    "print(\"We can track manuscripts, notes, datasets, and statisfical codes/figures\")"
   ]
  },
  {
   "cell_type": "markdown",
   "metadata": {},
   "source": [
    "3. What are the three main things that can go wrong in a data science project?"
   ]
  },
  {
   "cell_type": "code",
   "execution_count": 26,
   "metadata": {},
   "outputs": [
    {
     "name": "stdout",
     "output_type": "stream",
     "text": [
      "1: The model doesn't work well\n",
      "2: You weren't solving the right problem\n",
      "3: The data aren't what you wanted\n"
     ]
    }
   ],
   "source": [
    "goWrong = {1:\"The model doesn't work well\", 2:\"You weren't solving the right problem\", 3:\"The data aren't what you wanted\"}\n",
    "\n",
    "def problemList(n):\n",
    "    for k,v in n.items():\n",
    "        print(str(k) + \": \" + v)\n",
    "        \n",
    "problemList(goWrong)"
   ]
  },
  {
   "cell_type": "markdown",
   "metadata": {},
   "source": [
    "# Python Background Questions"
   ]
  },
  {
   "cell_type": "markdown",
   "metadata": {},
   "source": [
    "These short exercises are a way to familiarize yourself with python. If you find these exercises too difficult, don’t worry! We will review the basics the first day to make sure we are all comfortable coding in Python.\n",
    "\n",
    "Please save your work in this document and `git push` them to the `prework-assignment` repo.\n",
    "\n",
    "----------------------------------------------------------------"
   ]
  },
  {
   "cell_type": "markdown",
   "metadata": {},
   "source": [
    "### Problem 1: Basic Operations"
   ]
  },
  {
   "cell_type": "markdown",
   "metadata": {},
   "source": [
    "You are at Vanessa's Vegan Cafe and you loved it so much you wanna leave a tip. Write a function that takes the amount owed and calculates how much money you pay with an 18% tip. If functions still scare you, just the solution code will do."
   ]
  },
  {
   "cell_type": "code",
   "execution_count": 42,
   "metadata": {},
   "outputs": [
    {
     "name": "stdout",
     "output_type": "stream",
     "text": [
      "How much did your bill come out to?\n",
      "1120413.2312351451\n",
      "1322087.61\n"
     ]
    }
   ],
   "source": [
    "def tipCalculator():\n",
    "    print(\"How much did your bill come out to?\")\n",
    "    x = float(input())\n",
    "    bill = round((x * 1.18),2)\n",
    "    print(bill)\n",
    "\n",
    "tipCalculator()"
   ]
  },
  {
   "cell_type": "markdown",
   "metadata": {},
   "source": [
    "----------------------------------------------------------------"
   ]
  },
  {
   "cell_type": "markdown",
   "metadata": {},
   "source": [
    "### Problem 2: Lists"
   ]
  },
  {
   "cell_type": "markdown",
   "metadata": {},
   "source": [
    "I have a fortune cookie that says my lucky numbers are:\n",
    "\n",
    "       [23, 54, 6, 8, 10078, 3]\n",
    "\n",
    "Write a function that returns 3 lists (if functions still scare you, just the solution code will do)\n",
    "   - replace the number 6 with 1\n",
    "   - the above list in decreasing order\n",
    "   - all values greater than 15"
   ]
  },
  {
   "cell_type": "code",
   "execution_count": 75,
   "metadata": {},
   "outputs": [
    {
     "name": "stdout",
     "output_type": "stream",
     "text": [
      "[23, 54, 1, 8, 10078, 3]\n",
      "[10078, 54, 23, 8, 3, 1]\n",
      "[10078, 54, 23]\n"
     ]
    }
   ],
   "source": [
    "luckyNumbers = [23, 54, 6, 8, 10078, 3]\n",
    "\n",
    "\n",
    "def threeLists():\n",
    "    luckyNumbers[2] = 1\n",
    "    print(luckyNumbers)\n",
    "\n",
    "    luckyNumbers.sort(reverse = True)\n",
    "    print(luckyNumbers)\n",
    "\n",
    "    greaterThan = []\n",
    "    for i in luckyNumbers:\n",
    "        if i > 15:\n",
    "            greaterThan.append(i)\n",
    "    print(greaterThan)\n",
    "\n",
    "threeLists()"
   ]
  },
  {
   "cell_type": "markdown",
   "metadata": {},
   "source": [
    "----------------------------------------------------------------"
   ]
  },
  {
   "cell_type": "markdown",
   "metadata": {},
   "source": [
    "### Problem 3: Basic Operations"
   ]
  },
  {
   "cell_type": "markdown",
   "metadata": {},
   "source": [
    "Let's now take the first step in coding some real data science. Write a statement that loads the `numpy` library into the interpreter and gives it an alias of `np`."
   ]
  },
  {
   "cell_type": "code",
   "execution_count": 77,
   "metadata": {},
   "outputs": [],
   "source": [
    "import numpy as np"
   ]
  },
  {
   "cell_type": "markdown",
   "metadata": {},
   "source": [
    "----------------------------------------------------------------"
   ]
  },
  {
   "cell_type": "markdown",
   "metadata": {},
   "source": [
    "### Problem 4: Numpy"
   ]
  },
  {
   "cell_type": "markdown",
   "metadata": {},
   "source": [
    "Generated a 10x10 `numpy` array with random numbers and slice the array to get the 2nd and 3rd column. Also calculate the average of 6th column using `numpy`."
   ]
  },
  {
   "cell_type": "code",
   "execution_count": 96,
   "metadata": {},
   "outputs": [
    {
     "name": "stdout",
     "output_type": "stream",
     "text": [
      "[4 6 1 5 1 3 7 7 1 1]\n",
      "[1 3 1 8 9 5 3 0 1 3]\n",
      "[6 0 0 8 9 6 9 8 1 8]\n",
      "5.5\n"
     ]
    }
   ],
   "source": [
    "x = np.random.randint(0, 10, (10,10))\n",
    "\n",
    "secondColumn = x[:,1]\n",
    "thirdColumn = x[:,2]\n",
    "\n",
    "sixthColumn = x[:,5]\n",
    "def colAvg():\n",
    "    acc = 0\n",
    "    rsf = 0\n",
    "    for i in x[:,5]:\n",
    "        rsf = rsf + i\n",
    "        acc += 1\n",
    "    print(rsf/acc)\n",
    "print(secondColumn)\n",
    "print(thirdColumn)\n",
    "\n",
    "print(sixthColumn)\n",
    "colAvg()"
   ]
  },
  {
   "cell_type": "markdown",
   "metadata": {},
   "source": [
    "----------------------------------------------------------------"
   ]
  },
  {
   "cell_type": "markdown",
   "metadata": {},
   "source": [
    "##### That's it! We look forward to seeing you in class!"
   ]
  }
 ],
 "metadata": {
  "kernelspec": {
   "display_name": "Python 3",
   "language": "python",
   "name": "python3"
  },
  "language_info": {
   "codemirror_mode": {
    "name": "ipython",
    "version": 3
   },
   "file_extension": ".py",
   "mimetype": "text/x-python",
   "name": "python",
   "nbconvert_exporter": "python",
   "pygments_lexer": "ipython3",
   "version": "3.7.3"
  }
 },
 "nbformat": 4,
 "nbformat_minor": 2
}
